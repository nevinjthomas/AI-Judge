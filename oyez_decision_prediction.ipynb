{
 "cells": [
  {
   "cell_type": "markdown",
   "id": "0ecd86e2",
   "metadata": {},
   "source": [
    "## Imports"
   ]
  },
  {
   "cell_type": "code",
   "execution_count": 31,
   "id": "c4d84fc5",
   "metadata": {},
   "outputs": [],
   "source": [
    "#%pip install pandas\n",
    "#%pip install numpy\n",
    "#%pip install sklearn\n",
    "\n",
    "import pandas as pd\n",
    "import numpy as np\n",
    "\n",
    "from sklearn.model_selection import train_test_split\n",
    "from sklearn.metrics import classification_report\n",
    "from sklearn.feature_extraction.text import TfidfVectorizer\n",
    "\n",
    "from sklearn.neural_network import MLPClassifier\n",
    "from sklearn.linear_model import Perceptron\n",
    "from sklearn.svm import LinearSVC\n",
    "from sklearn.linear_model import LogisticRegression\n",
    "from sklearn.naive_bayes import MultinomialNB\n",
    "from sklearn.neighbors import KNeighborsClassifier\n",
    "from sklearn.ensemble import VotingClassifier\n",
    "from sklearn.calibration import CalibratedClassifierCV\n",
    "\n",
    "# Just for visuals\n",
    "pd.set_option('display.max_colwidth', None)"
   ]
  },
  {
   "cell_type": "markdown",
   "id": "17342c68",
   "metadata": {},
   "source": [
    "# 1. Dataset Preparation"
   ]
  },
  {
   "cell_type": "markdown",
   "id": "d815ec89",
   "metadata": {},
   "source": [
    "## Load & Augment Pre-processed Dataset"
   ]
  },
  {
   "cell_type": "code",
   "execution_count": 33,
   "id": "74897779",
   "metadata": {
    "scrolled": false
   },
   "outputs": [
    {
     "name": "stdout",
     "output_type": "stream",
     "text": [
      "There are 2380 cases.\n"
     ]
    }
   ],
   "source": [
    "df_o = pd.read_pickle('oyez_proccessed.pkl')\n",
    "\n",
    "print(f'There are {len(df_o)} cases.')"
   ]
  },
  {
   "cell_type": "code",
   "execution_count": 34,
   "id": "54de1f5e",
   "metadata": {},
   "outputs": [],
   "source": [
    "# Create a mirrored case for each case, where the parties are swapped to prevent favoring first_party\n",
    "def mirror_case(row):\n",
    "    return {\n",
    "        'ID': f\"{row['ID']}_mirrored\",\n",
    "        'name': f\"{row['name']} (Mirrored)\",\n",
    "        'first_party': row['second_party'],\n",
    "        'second_party': row['first_party'],\n",
    "        #'winning_party': row['second_party'] if row['winner_index'] == 0 else row['first_party'],\n",
    "        'winning_party': row['winning_party'],\n",
    "        #future imporvement: further augment facts/question/conclusion\n",
    "        'facts': row['facts'],\n",
    "        'question': row['question'],\n",
    "        'conclusion': row['conclusion'], \n",
    "        'winner_index': 1 - row['winner_index']\n",
    "}\n",
    "mirrored = []\n",
    "for index, row in df_o.iterrows():\n",
    "    mirrored.append(mirror_case(row))\n",
    "df_m = pd.DataFrame(mirrored)\n",
    "\n",
    "df = pd.concat([df_o, df_m])"
   ]
  },
  {
   "cell_type": "code",
   "execution_count": 35,
   "id": "761f95bd",
   "metadata": {},
   "outputs": [
    {
     "name": "stdout",
     "output_type": "stream",
     "text": [
      "There are 4760 cases.\n",
      "There are 2380 rows for class 0.\n",
      "There are 2380 rows for class 1.\n"
     ]
    }
   ],
   "source": [
    "print(f'There are {len(df)} cases.')\n",
    "print(f'There are {len(df[df[\"winner_index\"]==0])} rows for class 0.')\n",
    "print(f'There are {len(df[df[\"winner_index\"]==1])} rows for class 1.')"
   ]
  },
  {
   "cell_type": "code",
   "execution_count": 36,
   "id": "3059c8c0",
   "metadata": {
    "scrolled": true
   },
   "outputs": [
    {
     "data": {
      "text/html": [
       "<div>\n",
       "<style scoped>\n",
       "    .dataframe tbody tr th:only-of-type {\n",
       "        vertical-align: middle;\n",
       "    }\n",
       "\n",
       "    .dataframe tbody tr th {\n",
       "        vertical-align: top;\n",
       "    }\n",
       "\n",
       "    .dataframe thead th {\n",
       "        text-align: right;\n",
       "    }\n",
       "</style>\n",
       "<table border=\"1\" class=\"dataframe\">\n",
       "  <thead>\n",
       "    <tr style=\"text-align: right;\">\n",
       "      <th></th>\n",
       "      <th>ID</th>\n",
       "      <th>name</th>\n",
       "      <th>first_party</th>\n",
       "      <th>second_party</th>\n",
       "      <th>winning_party</th>\n",
       "      <th>facts</th>\n",
       "      <th>question</th>\n",
       "      <th>conclusion</th>\n",
       "      <th>winner_index</th>\n",
       "    </tr>\n",
       "  </thead>\n",
       "  <tbody>\n",
       "    <tr>\n",
       "      <th>2141</th>\n",
       "      <td>62831</td>\n",
       "      <td>Ayestas v. Davis</td>\n",
       "      <td>Carlos Manuel Ayestas</td>\n",
       "      <td>Lorie Davis, Director, Texas Department of Criminal Justice (Institutional Division)</td>\n",
       "      <td>Ayestas</td>\n",
       "      <td>In July 1997, Carlos Manuel Ayestas, a Honduran national, was convicted and sentenced to death for the murder of Santiaga Paneque at her home in Houston, Texas. Ayestas appealed his conviction and filed for state habeas relief based on a claim of ineffective assistance of counsel; he argued that his trial counsel failed to secure the testimony of family members who could have presented mitigating evidence. The state habeas court found that Ayestas’ trial attorney was not ineffective and denied his application for habeas relief. The Texas Court of Criminal Appeals adopted the findings of the state habeas court and denied relief as well.  In 2009, Ayestas, with a new attorney, filed a federal habeas petition and claimed that his trial counsel had been ineffective because he had failed to conduct a reasonable investigation that would have uncovered “available and abundant” mitigating factors. However, the district court found that his claim was procedurally defaulted because it had not been raised in the state habeas proceeding and denied relief. The US Court of Appeals for the Fifth Circuit affirmed. The US Supreme Court subsequently decided Martinez v. Ryan, which held that ineffectiveness of state habeas counsel in failing to bring an ineffective assistance of trial counsel claim may excuse a procedural default. The Supreme Court later extended the holding of Martinez to Texas’ habeas scheme in Trevino v. Thaler. In light of these decisions, Ayestas asked for a rehearing. On rehearing in the district court, Ayestas filed a motion for investigative assistance that was “reasonably necessary” to develop his broader ineffective assistance of counsel claim under 18 YOU.S.C. § 3599(f). The district court denied the motion based on Fifth Circuit precedent that holds that investigative assistance is not “reasonably necessary” unless the habeas petitioner can carry the ultimate burden of proof on the underlying claim at the time of the request for investigative assistance. The district court determined that Ayestas could not meet his burden of proof on the ineffective assistance of counsel claim and therefore denied the motion. The appellate court affirmed.</td>\n",
       "      <td>Are investigative services under 18 YOU.S.C. § 3599(f) only “reasonably necessary” when the habeas petitioner requesting the services can meet the burden of proof for the underlying claim for habeas relief at the time of the request for the investigative services?</td>\n",
       "      <td>In a unanimous opinion authored by Justice Alito, after explaining that it had jurisdiction to hear the appeal because it related to a judicial rather than an administrative decision, the Court held that the Fifth Circuit applied the wrong legal standard in affirming the denial of Ayestas' claim for the investigative funding needed to prove his entitlement to federal habeas relief under 18 USC § 3599(f). Analyzing the statutory language, the Court concluded that it called for district courts to exercise their discretion in determining whether a reasonable attorney would deem the services sought by the funding to be sufficiently important to the case in order to meet the \"reasonably necessary\" requirement. The Fifth Circuit's \"substantial need\" standard was more stringent, and therefore improper.  The Court explained that the Fifth Circuit also erred in requiring Ayestas to present \"a viable constitutional claim that [was] not procedurally barred,\" as this rule had become too restrictive in light of Trevino, and lower courts could potentially err in denying funding requests in cases where such funding could allow a petitioner to overcome a procedural default. On the other hand, the Court also explained that district courts had broad discretion in ruling on § 3599(f) funding requests, and while a funding applicant need not prove that they will win their case due to the funding services, the courts must evaluate the likelihood of success as part of the \"reasonably necessary\" test.  The Court remanded to the Fifth Circuit the state's alternative argument that § 3599(f) funding is never \"reasonably necessary\" when a petitioner for habeas relief seeks to bring a procedurally defaulted ineffective assistance of trial counsel claim based on facts outside the state court record. Justice Sotomayor wrote a concurring opinion, in which Justice Ginsburg joined.</td>\n",
       "      <td>0</td>\n",
       "    </tr>\n",
       "    <tr>\n",
       "      <th>1016</th>\n",
       "      <td>55202_mirrored</td>\n",
       "      <td>Castro v. United States (Mirrored)</td>\n",
       "      <td>United States</td>\n",
       "      <td>Hernan O'Ryan Castro</td>\n",
       "      <td>Hernan O'Ryan Castro</td>\n",
       "      <td>Hernan O'Ryan Castro was sentenced to 20 years in prison for drug related offenses. After the 11th Circuit Court of Appeals affirmed his conviction, Castro alleged that he had discovered evidence that a government witness had testified falsely. Based on this evidence, he requested a new trial without legal representation. The district court, because Castro had no legal representation, attempted to help him by re-characterizing his request for a new trial as a petition for a writ of habeas corpus. The judge's re-characterization of Castro's appeal was intended to help him, but two years later, in the Antiterrorism and Effective Death Penalty Act of 1996, Congress limited the number of petitions for writ of habeas corpus that a prisoner could file to one. When Castro attempted to petition for what he thought was his first write of habeas corpus in 1998, he was denied because of the earlier reclassification of his request for a new trial. When he appealed, the 11th Circuit Court of appeals initially sided with Castro, ruling that the reclassification should not count against him. Four months later, however, the 11th Circuit reconsidered, siding with the government.</td>\n",
       "      <td>When a district judge re-classifies a post-conviction motion by a defendant, turning it into a petition for a writ of habeas corpus, does that preclude future petitions for a writ of habeas corpus under the Antiterrorism and Effective Death Penalty Act of 1996?</td>\n",
       "      <td>In a unanimous opinion delivered by Justice Stephen Breyer, the Court held that a federal court can recharacterize a motion as a first habeas corpus petition only if the court: (1) informs the litigant of the court's intent to recharacterize; (2) warns the litigant that this recharacterization means that any subsequent habeas corpus petition will be treated as a second petition; (3) gives the litigant an opportunity to withdraw or amend the motion. The Court held that because the district court failed to give these prescribed warnings, Castro's 1994 motion could not be considered a first habeas corpus petition and his 1997 motion therefore could not be considered a second petition.</td>\n",
       "      <td>1</td>\n",
       "    </tr>\n",
       "    <tr>\n",
       "      <th>1647</th>\n",
       "      <td>56177</td>\n",
       "      <td>Montgomery v. Louisiana</td>\n",
       "      <td>Henry Montgomery</td>\n",
       "      <td>Louisiana</td>\n",
       "      <td>Montgomery</td>\n",
       "      <td>In 1963, Henry Montgomery was found guilty and received the death penalty for the murder of Charles Hunt, which Montgomery committed less than two weeks after he turned 17. He appealed to the Louisiana Supreme Court, and his conviction was overturned because of community prejudice. At his new trial, Montgomery was again convicted, but he was sentenced to life without parole. In 2012, the YOU.S. Supreme Court decided Miller v. Alabama, in which the Court held that mandatory sentencing schemes requiring children convicted of homicide to be sentenced to life imprisonment without parole violate the Eighth Amendment. In light of that decision, Montgomery filed a motion in state district court to correct what he argued was now an illegal sentence. The trial court denied Montgomery’s motion, and the Louisiana Supreme Court denied Montgomery’s application by holding that the decision in Miller does not apply retroactively.</td>\n",
       "      <td>1) Does the YOU.S. Supreme Court’s decision in Miller v. Alabama, which held that the Eighth Amendment prohibits mandatory sentencing schemes that require children convicted of homicide to be sentenced to life in prison without parole, apply retroactively? (2)Does the YOU.S. Supreme Court have the jurisdiction to review the Louisiana Supreme Court’s determination that the Miller rule does not apply retroactively?</td>\n",
       "      <td>The Supreme Court had jurisdiction to review the Louisiana Supreme Court’s decision, and the Supreme Court’s decision in Miller v. Alabama, which prohibits sentencing schemes that impose a punishment of mandatory life without parole for juvenile offenders convicted of homicide, applied retroactively. Justice Anthony M. Kennedy delivered the opinion for the 6-3 majority. The Court held that, when the Court establishes a substantive constitutional rule, that rule must apply retroactively because such a rule provides for constitutional rights that go beyond procedural guarantees. When a state court fails to give effect to a substantive rule, that decision is reviewable because failure to apply a substantive rule always results in the violation of a constitutional right, while failure to apply a procedural rule might or might not result in an illegitimate verdict. The Court held that Miller established a substantive rule because it prohibited the imposition of a sentence of life without parole for juvenile offenders. The Court’s analysis in that case was based on precedent that established that the Constitution treats children as different from adults for the purposes of sentencing. Therefore, the rule the Court announced in Miller made life without parole an unconstitutional punishment for a class of defendants based on their status as juveniles, and such a rule is substantive rather than procedural. In his dissent, Justice Antonin Scalia wrote that the Court did not have jurisdiction to decide this case. Because Supreme Court precedent treated cases on collateral review from state court decisions differently from those on direct review from federal courts, the principle of finality of decisions dictates that whether new constitutional rule will be applied to a final state court conviction is entirely a matter of state choice. Therefore, a state court need only apply the constitutional rule that existed at the time of the conviction, and the Court does not have the jurisdiction to review that decision. Justice Scalia argued that the precedent the majority relied on for its  conclusion was not binding and did not directly apply to the case at hand. Additionally, the language of Miller itself stated that it did not create a substantive rule but instead established a process that required courts to consider a juvenile offender’s age before imposing a particular penalty. Crucially, Miller still allowed for the imposition of life without parole on a juvenile offender if the crime(s) in question reflect “permanent incorrigibility.” Justice Clarence Thomas and Justice Samuel A. Alito, Jr. joined in the dissent. Justice Thomas also wrote a separate dissent in which he argued that the Supreme Court did not have jurisdiction to decide this case. The question of whether a constitutional right is retroactive asks whether there is an appropriate remedy, not whether the right was violated in the first place. Because the Supreme Court cannot force state courts to apply constitutional rules that did not exist at the time of the conviction, there is no constitutional mechanism to provide a remedy that would make the constitutional right in question apply retroactively.</td>\n",
       "      <td>0</td>\n",
       "    </tr>\n",
       "    <tr>\n",
       "      <th>2003</th>\n",
       "      <td>62524_mirrored</td>\n",
       "      <td>Wolf v. Colorado (Mirrored)</td>\n",
       "      <td>Colorado</td>\n",
       "      <td>Julius A. Wolf</td>\n",
       "      <td>Colorado</td>\n",
       "      <td>Julius A. Wolf, Charles H. Fulton, and Betty Fulton were charged with conspiracy to perform an abortion. At trial, Wolf objected to evidence material and admissible as to his co-defendants would be inadmissible if he were tried separately. The Colorado Supreme Court upheld all three convictions in which evidence was admitted that would have been inadmissible in a prosecution for violation of a federal law in a federal court.</td>\n",
       "      <td>Were the states required to exclude illegally seized evidence from trial under the Fourth and Fourteenth Amendments?</td>\n",
       "      <td>In a 6-to-3 decision, the Court held that the Fourteenth Amendment did not subject criminal justice in the states to specific limitations and that illegally obtained evidence did not have to be excluded from trials in all cases. The Court reasoned that while the exclusion of evidence may have been an effective way to deter unreasonable searches, other methods could be equally effective and would not fall below the minimal standards assured by the Due Process Clause. Civil remedies, such as \"the internal discipline of the police, under the eyes of an alert public opinion,\" were sufficient.</td>\n",
       "      <td>0</td>\n",
       "    </tr>\n",
       "    <tr>\n",
       "      <th>650</th>\n",
       "      <td>54601</td>\n",
       "      <td>Oncale v. Sundowner Offshore Services, Inc.</td>\n",
       "      <td>Oncale</td>\n",
       "      <td>Sundowner Offshore Services, Inc.</td>\n",
       "      <td>Oncale</td>\n",
       "      <td>Joseph Oncale, a male, filed a complaint against his employer, Sundowner Offshore Services, Inc., alleging that he was sexually harassed by co-workers, in their workplace, in violation of Title VII of the Civil Rights Act of 1964 (\"Title VII\"). On appeal from a decision supporting a district court's ruling against Oncale, the Supreme Court granted certiorari.</td>\n",
       "      <td>Does the prohibition against sex discrimination, set out in Title VII of the Civil Rights Act of 1964, apply to same-sex sexual harassment?</td>\n",
       "      <td>Yes. In a unanimous opinion, the Court held that while Title VII does not prohibit all verbal or physical harassment in the workplace, it does bar all forms of discrimination \"because of\" sex. Such discrimination, whether motivated by sexual desire or not, is actionable so long at it places its victim in an objectively disadvantageous working condition, regardless of the victim's gender.</td>\n",
       "      <td>0</td>\n",
       "    </tr>\n",
       "  </tbody>\n",
       "</table>\n",
       "</div>"
      ],
      "text/plain": [
       "                  ID                                         name  \\\n",
       "2141           62831                             Ayestas v. Davis   \n",
       "1016  55202_mirrored           Castro v. United States (Mirrored)   \n",
       "1647           56177                      Montgomery v. Louisiana   \n",
       "2003  62524_mirrored                  Wolf v. Colorado (Mirrored)   \n",
       "650            54601  Oncale v. Sundowner Offshore Services, Inc.   \n",
       "\n",
       "                first_party  \\\n",
       "2141  Carlos Manuel Ayestas   \n",
       "1016          United States   \n",
       "1647       Henry Montgomery   \n",
       "2003               Colorado   \n",
       "650                  Oncale   \n",
       "\n",
       "                                                                              second_party  \\\n",
       "2141  Lorie Davis, Director, Texas Department of Criminal Justice (Institutional Division)   \n",
       "1016                                                                  Hernan O'Ryan Castro   \n",
       "1647                                                                             Louisiana   \n",
       "2003                                                                        Julius A. Wolf   \n",
       "650                                                      Sundowner Offshore Services, Inc.   \n",
       "\n",
       "             winning_party  \\\n",
       "2141               Ayestas   \n",
       "1016  Hernan O'Ryan Castro   \n",
       "1647            Montgomery   \n",
       "2003              Colorado   \n",
       "650                 Oncale   \n",
       "\n",
       "                                                                                                                                                                                                                                                                                                                                                                                                                                                                                                                                                                                                                                                                                                                                                                                                                                                                                                                                                                                                                                                                                                                                                                                                                                                                                                                                                                                                                                                                                                                                                                                                                                                                                                                                                                                                                                                                                                                                                                                                                                                                                                                                                                                                                                                                            facts  \\\n",
       "2141  In July 1997, Carlos Manuel Ayestas, a Honduran national, was convicted and sentenced to death for the murder of Santiaga Paneque at her home in Houston, Texas. Ayestas appealed his conviction and filed for state habeas relief based on a claim of ineffective assistance of counsel; he argued that his trial counsel failed to secure the testimony of family members who could have presented mitigating evidence. The state habeas court found that Ayestas’ trial attorney was not ineffective and denied his application for habeas relief. The Texas Court of Criminal Appeals adopted the findings of the state habeas court and denied relief as well.  In 2009, Ayestas, with a new attorney, filed a federal habeas petition and claimed that his trial counsel had been ineffective because he had failed to conduct a reasonable investigation that would have uncovered “available and abundant” mitigating factors. However, the district court found that his claim was procedurally defaulted because it had not been raised in the state habeas proceeding and denied relief. The US Court of Appeals for the Fifth Circuit affirmed. The US Supreme Court subsequently decided Martinez v. Ryan, which held that ineffectiveness of state habeas counsel in failing to bring an ineffective assistance of trial counsel claim may excuse a procedural default. The Supreme Court later extended the holding of Martinez to Texas’ habeas scheme in Trevino v. Thaler. In light of these decisions, Ayestas asked for a rehearing. On rehearing in the district court, Ayestas filed a motion for investigative assistance that was “reasonably necessary” to develop his broader ineffective assistance of counsel claim under 18 YOU.S.C. § 3599(f). The district court denied the motion based on Fifth Circuit precedent that holds that investigative assistance is not “reasonably necessary” unless the habeas petitioner can carry the ultimate burden of proof on the underlying claim at the time of the request for investigative assistance. The district court determined that Ayestas could not meet his burden of proof on the ineffective assistance of counsel claim and therefore denied the motion. The appellate court affirmed.    \n",
       "1016                                                                                                                                                                                                                                                                                                                                                                                                                                                                                                                                                                                                                                                                                                                                                                                                                                                                                                                                                                                                                                                Hernan O'Ryan Castro was sentenced to 20 years in prison for drug related offenses. After the 11th Circuit Court of Appeals affirmed his conviction, Castro alleged that he had discovered evidence that a government witness had testified falsely. Based on this evidence, he requested a new trial without legal representation. The district court, because Castro had no legal representation, attempted to help him by re-characterizing his request for a new trial as a petition for a writ of habeas corpus. The judge's re-characterization of Castro's appeal was intended to help him, but two years later, in the Antiterrorism and Effective Death Penalty Act of 1996, Congress limited the number of petitions for writ of habeas corpus that a prisoner could file to one. When Castro attempted to petition for what he thought was his first write of habeas corpus in 1998, he was denied because of the earlier reclassification of his request for a new trial. When he appealed, the 11th Circuit Court of appeals initially sided with Castro, ruling that the reclassification should not count against him. Four months later, however, the 11th Circuit reconsidered, siding with the government.    \n",
       "1647                                                                                                                                                                                                                                                                                                                                                                                                                                                                                                                                                                                                                                                                                                                                                                                                                                                                                                                                                                                                                                                                                                                                                                                                                                                                                                            In 1963, Henry Montgomery was found guilty and received the death penalty for the murder of Charles Hunt, which Montgomery committed less than two weeks after he turned 17. He appealed to the Louisiana Supreme Court, and his conviction was overturned because of community prejudice. At his new trial, Montgomery was again convicted, but he was sentenced to life without parole. In 2012, the YOU.S. Supreme Court decided Miller v. Alabama, in which the Court held that mandatory sentencing schemes requiring children convicted of homicide to be sentenced to life imprisonment without parole violate the Eighth Amendment. In light of that decision, Montgomery filed a motion in state district court to correct what he argued was now an illegal sentence. The trial court denied Montgomery’s motion, and the Louisiana Supreme Court denied Montgomery’s application by holding that the decision in Miller does not apply retroactively.    \n",
       "2003                                                                                                                                                                                                                                                                                                                                                                                                                                                                                                                                                                                                                                                                                                                                                                                                                                                                                                                                                                                                                                                                                                                                                                                                                                                                                                                                                                                                                                                                                                                                                                                                                                                                                                                                                                                                                                Julius A. Wolf, Charles H. Fulton, and Betty Fulton were charged with conspiracy to perform an abortion. At trial, Wolf objected to evidence material and admissible as to his co-defendants would be inadmissible if he were tried separately. The Colorado Supreme Court upheld all three convictions in which evidence was admitted that would have been inadmissible in a prosecution for violation of a federal law in a federal court.    \n",
       "650                                                                                                                                                                                                                                                                                                                                                                                                                                                                                                                                                                                                                                                                                                                                                                                                                                                                                                                                                                                                                                                                                                                                                                                                                                                                                                                                                                                                                                                                                                                                                                                                                                                                                                                                                                                                                                                                                                    Joseph Oncale, a male, filed a complaint against his employer, Sundowner Offshore Services, Inc., alleging that he was sexually harassed by co-workers, in their workplace, in violation of Title VII of the Civil Rights Act of 1964 (\"Title VII\"). On appeal from a decision supporting a district court's ruling against Oncale, the Supreme Court granted certiorari.    \n",
       "\n",
       "                                                                                                                                                                                                                                                                                                                                                                                                                               question  \\\n",
       "2141                                                                                                                                                          Are investigative services under 18 YOU.S.C. § 3599(f) only “reasonably necessary” when the habeas petitioner requesting the services can meet the burden of proof for the underlying claim for habeas relief at the time of the request for the investigative services?    \n",
       "1016                                                                                                                                                             When a district judge re-classifies a post-conviction motion by a defendant, turning it into a petition for a writ of habeas corpus, does that preclude future petitions for a writ of habeas corpus under the Antiterrorism and Effective Death Penalty Act of 1996?    \n",
       "1647  1) Does the YOU.S. Supreme Court’s decision in Miller v. Alabama, which held that the Eighth Amendment prohibits mandatory sentencing schemes that require children convicted of homicide to be sentenced to life in prison without parole, apply retroactively? (2)Does the YOU.S. Supreme Court have the jurisdiction to review the Louisiana Supreme Court’s determination that the Miller rule does not apply retroactively?    \n",
       "2003                                                                                                                                                                                                                                                                                                              Were the states required to exclude illegally seized evidence from trial under the Fourth and Fourteenth Amendments?    \n",
       "650                                                                                                                                                                                                                                                                                        Does the prohibition against sex discrimination, set out in Title VII of the Civil Rights Act of 1964, apply to same-sex sexual harassment?    \n",
       "\n",
       "                                                                                                                                                                                                                                                                                                                                                                                                                                                                                                                                                                                                                                                                                                                                                                                                                                                                                                                                                                                                                                                                                                                                                                                                                                                                                                                                                                                                                                                                                                                                                                                                                                                                                                                                                                                                                                                                                                                                                                                                                                                                                                                                                                                                                                                                                                                                                                                                                                                                                                                                                                                                                                                                                                                                                                                                                                                                                                                                                                                                                                                                                                                                                                                                                                                                                                                                    conclusion  \\\n",
       "2141                                                                                                                                                                                                                                                                                                                                                                                                                                                                                                                                                                                                                                                                                                                                                                                                                                                                                                                                                                                                                                                                                                                                                                                                                                                                                                                                                                                 In a unanimous opinion authored by Justice Alito, after explaining that it had jurisdiction to hear the appeal because it related to a judicial rather than an administrative decision, the Court held that the Fifth Circuit applied the wrong legal standard in affirming the denial of Ayestas' claim for the investigative funding needed to prove his entitlement to federal habeas relief under 18 USC § 3599(f). Analyzing the statutory language, the Court concluded that it called for district courts to exercise their discretion in determining whether a reasonable attorney would deem the services sought by the funding to be sufficiently important to the case in order to meet the \"reasonably necessary\" requirement. The Fifth Circuit's \"substantial need\" standard was more stringent, and therefore improper.  The Court explained that the Fifth Circuit also erred in requiring Ayestas to present \"a viable constitutional claim that [was] not procedurally barred,\" as this rule had become too restrictive in light of Trevino, and lower courts could potentially err in denying funding requests in cases where such funding could allow a petitioner to overcome a procedural default. On the other hand, the Court also explained that district courts had broad discretion in ruling on § 3599(f) funding requests, and while a funding applicant need not prove that they will win their case due to the funding services, the courts must evaluate the likelihood of success as part of the \"reasonably necessary\" test.  The Court remanded to the Fifth Circuit the state's alternative argument that § 3599(f) funding is never \"reasonably necessary\" when a petitioner for habeas relief seeks to bring a procedurally defaulted ineffective assistance of trial counsel claim based on facts outside the state court record. Justice Sotomayor wrote a concurring opinion, in which Justice Ginsburg joined.    \n",
       "1016                                                                                                                                                                                                                                                                                                                                                                                                                                                                                                                                                                                                                                                                                                                                                                                                                                                                                                                                                                                                                                                                                                                                                                                                                                                                                                                                                                                                                                                                                                                                                                                                                                                                                                                                                                                                                                                                                                                                                                                                                                                                                                                                                                                                                                                                                                                                                                                                                                                                                                                                                                                                                       In a unanimous opinion delivered by Justice Stephen Breyer, the Court held that a federal court can recharacterize a motion as a first habeas corpus petition only if the court: (1) informs the litigant of the court's intent to recharacterize; (2) warns the litigant that this recharacterization means that any subsequent habeas corpus petition will be treated as a second petition; (3) gives the litigant an opportunity to withdraw or amend the motion. The Court held that because the district court failed to give these prescribed warnings, Castro's 1994 motion could not be considered a first habeas corpus petition and his 1997 motion therefore could not be considered a second petition.    \n",
       "1647  The Supreme Court had jurisdiction to review the Louisiana Supreme Court’s decision, and the Supreme Court’s decision in Miller v. Alabama, which prohibits sentencing schemes that impose a punishment of mandatory life without parole for juvenile offenders convicted of homicide, applied retroactively. Justice Anthony M. Kennedy delivered the opinion for the 6-3 majority. The Court held that, when the Court establishes a substantive constitutional rule, that rule must apply retroactively because such a rule provides for constitutional rights that go beyond procedural guarantees. When a state court fails to give effect to a substantive rule, that decision is reviewable because failure to apply a substantive rule always results in the violation of a constitutional right, while failure to apply a procedural rule might or might not result in an illegitimate verdict. The Court held that Miller established a substantive rule because it prohibited the imposition of a sentence of life without parole for juvenile offenders. The Court’s analysis in that case was based on precedent that established that the Constitution treats children as different from adults for the purposes of sentencing. Therefore, the rule the Court announced in Miller made life without parole an unconstitutional punishment for a class of defendants based on their status as juveniles, and such a rule is substantive rather than procedural. In his dissent, Justice Antonin Scalia wrote that the Court did not have jurisdiction to decide this case. Because Supreme Court precedent treated cases on collateral review from state court decisions differently from those on direct review from federal courts, the principle of finality of decisions dictates that whether new constitutional rule will be applied to a final state court conviction is entirely a matter of state choice. Therefore, a state court need only apply the constitutional rule that existed at the time of the conviction, and the Court does not have the jurisdiction to review that decision. Justice Scalia argued that the precedent the majority relied on for its  conclusion was not binding and did not directly apply to the case at hand. Additionally, the language of Miller itself stated that it did not create a substantive rule but instead established a process that required courts to consider a juvenile offender’s age before imposing a particular penalty. Crucially, Miller still allowed for the imposition of life without parole on a juvenile offender if the crime(s) in question reflect “permanent incorrigibility.” Justice Clarence Thomas and Justice Samuel A. Alito, Jr. joined in the dissent. Justice Thomas also wrote a separate dissent in which he argued that the Supreme Court did not have jurisdiction to decide this case. The question of whether a constitutional right is retroactive asks whether there is an appropriate remedy, not whether the right was violated in the first place. Because the Supreme Court cannot force state courts to apply constitutional rules that did not exist at the time of the conviction, there is no constitutional mechanism to provide a remedy that would make the constitutional right in question apply retroactively.    \n",
       "2003                                                                                                                                                                                                                                                                                                                                                                                                                                                                                                                                                                                                                                                                                                                                                                                                                                                                                                                                                                                                                                                                                                                                                                                                                                                                                                                                                                                                                                                                                                                                                                                                                                                                                                                                                                                                                                                                                                                                                                                                                                                                                                                                                                                                                                                                                                                                                                                                                                                                                                                                                                                                                                                                                                                      In a 6-to-3 decision, the Court held that the Fourteenth Amendment did not subject criminal justice in the states to specific limitations and that illegally obtained evidence did not have to be excluded from trials in all cases. The Court reasoned that while the exclusion of evidence may have been an effective way to deter unreasonable searches, other methods could be equally effective and would not fall below the minimal standards assured by the Due Process Clause. Civil remedies, such as \"the internal discipline of the police, under the eyes of an alert public opinion,\" were sufficient.    \n",
       "650                                                                                                                                                                                                                                                                                                                                                                                                                                                                                                                                                                                                                                                                                                                                                                                                                                                                                                                                                                                                                                                                                                                                                                                                                                                                                                                                                                                                                                                                                                                                                                                                                                                                                                                                                                                                                                                                                                                                                                                                                                                                                                                                                                                                                                                                                                                                                                                                                                                                                                                                                                                                                                                                                                                                                                                                                                                                                                                                    Yes. In a unanimous opinion, the Court held that while Title VII does not prohibit all verbal or physical harassment in the workplace, it does bar all forms of discrimination \"because of\" sex. Such discrimination, whether motivated by sexual desire or not, is actionable so long at it places its victim in an objectively disadvantageous working condition, regardless of the victim's gender.    \n",
       "\n",
       "      winner_index  \n",
       "2141             0  \n",
       "1016             1  \n",
       "1647             0  \n",
       "2003             0  \n",
       "650              0  "
      ]
     },
     "metadata": {},
     "output_type": "display_data"
    }
   ],
   "source": [
    "display(df.sample(n=5))"
   ]
  },
  {
   "cell_type": "code",
   "execution_count": 37,
   "id": "f046dc86",
   "metadata": {},
   "outputs": [
    {
     "data": {
      "text/plain": [
       "count    4760.000000\n",
       "mean     1128.322689\n",
       "std       530.495783\n",
       "min        98.000000\n",
       "25%       773.000000\n",
       "50%      1062.000000\n",
       "75%      1395.500000\n",
       "max      6113.000000\n",
       "Name: facts, dtype: float64"
      ]
     },
     "execution_count": 37,
     "metadata": {},
     "output_type": "execute_result"
    }
   ],
   "source": [
    "# Facts character stats\n",
    "df['facts'].apply(lambda x: len(str(x))).describe()"
   ]
  },
  {
   "cell_type": "code",
   "execution_count": 38,
   "id": "ac4ed6e4",
   "metadata": {},
   "outputs": [
    {
     "data": {
      "text/plain": [
       "count    4760.000000\n",
       "mean      176.907983\n",
       "std        84.457133\n",
       "min        14.000000\n",
       "25%       121.000000\n",
       "50%       166.000000\n",
       "75%       221.000000\n",
       "max       974.000000\n",
       "Name: facts, dtype: float64"
      ]
     },
     "execution_count": 38,
     "metadata": {},
     "output_type": "execute_result"
    }
   ],
   "source": [
    "# Facts word stats\n",
    "df['facts'].apply(lambda x: len(str(x).split())).describe()"
   ]
  },
  {
   "cell_type": "markdown",
   "id": "41f4afca",
   "metadata": {},
   "source": [
    "# 2. AutoJudge\n",
    "Given the neutral absolute facts, predict the decision of the case."
   ]
  }
 ],
 "metadata": {
  "kernelspec": {
   "display_name": "Python 3 (ipykernel)",
   "language": "python",
   "name": "python3"
  },
  "language_info": {
   "codemirror_mode": {
    "name": "ipython",
    "version": 3
   },
   "file_extension": ".py",
   "mimetype": "text/x-python",
   "name": "python",
   "nbconvert_exporter": "python",
   "pygments_lexer": "ipython3",
   "version": "3.11.5"
  }
 },
 "nbformat": 4,
 "nbformat_minor": 5
}
