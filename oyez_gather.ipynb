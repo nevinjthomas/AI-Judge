{
 "cells": [
  {
   "cell_type": "markdown",
   "metadata": {},
   "source": [
    "Scirpt that gets SCOTUS cases from Oyez.org\n",
    "\n",
    "Pulled from https://github.com/smitp415/CSCI_544_Final_Project/tree/main"
   ]
  },
  {
   "cell_type": "markdown",
   "metadata": {},
   "source": [
    "# Imports"
   ]
  },
  {
   "cell_type": "code",
   "execution_count": 1,
   "metadata": {},
   "outputs": [],
   "source": [
    "from requests_futures.sessions import FuturesSession\n",
    "import concurrent.futures as cf\n",
    "import json"
   ]
  },
  {
   "cell_type": "markdown",
   "metadata": {},
   "source": [
    "# Create an async session for get requests"
   ]
  },
  {
   "cell_type": "code",
   "execution_count": 2,
   "metadata": {},
   "outputs": [],
   "source": [
    "session = FuturesSession()"
   ]
  },
  {
   "cell_type": "code",
   "execution_count": 3,
   "metadata": {},
   "outputs": [
    {
     "name": "stdout",
     "output_type": "stream",
     "text": [
      "https://api.oyez.org/cases?per_page=1\n",
      "[{'ID': 49051, 'name': 'American Trucking Assns., Inc. v. United States', 'href': 'https://api.oyez.org/cases/1966/510', 'view_count': 0, 'docket_number': '510', 'timeline': [{'event': 'Decided', 'dates': [-124826400], 'href': 'https://api.oyez.org/case_timeline/case_timeline/51665'}], 'question': None, 'citation': {'volume': '382', 'page': '372', 'year': '1966', 'href': 'https://api.oyez.org/case_citation/case_citation/12979'}, 'term': '1966', 'description': None, 'justia_url': 'https://supreme.justia.com/cases/federal/us/382/372/'}]\n"
     ]
    }
   ],
   "source": [
    "x = [session.get('https://api.oyez.org/cases?per_page=1')]\n",
    "for f in cf.as_completed(x):\n",
    "    print(f.result().url)\n",
    "    print(f.result().json())"
   ]
  },
  {
   "cell_type": "markdown",
   "metadata": {},
   "source": [
    "# Fetch case data from oyez.org and convert it into JSON\n",
    "\n",
    "Note that this data will not include the entire case data, but instead will have 'href' fields that points to the data.\n",
    "\n"
   ]
  },
  {
   "cell_type": "code",
   "execution_count": 4,
   "metadata": {},
   "outputs": [],
   "source": [
    "future_data = session.get('https://api.oyez.org/cases?per_page=0')\n",
    "response_data = future_data.result().json()"
   ]
  },
  {
   "cell_type": "markdown",
   "metadata": {},
   "source": [
    "# Replace the 'href' fields in each case with the actual fetched data"
   ]
  },
  {
   "cell_type": "code",
   "execution_count": 5,
   "metadata": {},
   "outputs": [],
   "source": [
    "data = {}\n",
    "\n",
    "# A list of futures of all the async get requests\n",
    "futures_cases = []\n",
    "for i, element in enumerate(response_data):\n",
    "    # response_data contains brief info about the case, instead we will\n",
    "    # fetch each case individually from its 'href' field for more details\n",
    "    href = element['href']\n",
    "    futures_cases.append(session.get(href))\n",
    "\n",
    "# Wait until all get requests are completed\n",
    "# Order of completetion is arbitrary, first-done first-serve (the get requests)\n",
    "futures_decisions = []\n",
    "futures_opinions = []\n",
    "futures_decisions_lookup = {}\n",
    "futures_opinions_lookup = {}\n",
    "for f in cf.as_completed(futures_cases):\n",
    "    try:\n",
    "        case_resp = f.result().json()\n",
    "        \n",
    "        # extract the case ID and save it to the data dictionary\n",
    "        case_id = case_resp['ID']\n",
    "        data[case_id] = case_resp\n",
    "        \n",
    "        # extract the decisions, if none exist, give it an empty list\n",
    "        try:\n",
    "            decisions = case_resp['decisions']\n",
    "        except:\n",
    "            decisions = []\n",
    "        \n",
    "        # extract the written opinions, give it an empty list\n",
    "        try:\n",
    "            opinions = case_resp['written_opinion']\n",
    "        except:\n",
    "            opinions = []\n",
    "            \n",
    "        # reset the decisions of the case, since we want to fill\n",
    "        # it ourselves using the 'href' of each decision for more details\n",
    "        case_resp['decisions'] = []\n",
    "        for decision in decisions:\n",
    "            try:\n",
    "                # extract the decision href\n",
    "                href = decision['href']\n",
    "                futures_decisions.append(session.get(href))\n",
    "                futures_decisions_lookup[href] = case_id\n",
    "            except:\n",
    "                pass\n",
    "        \n",
    "        # reset the opinions of the case, since we want to fill\n",
    "        # it ourselves using the 'href' of each decision for more details\n",
    "        case_resp['opinions'] = []\n",
    "        for opinion in opinions:\n",
    "            try:\n",
    "                # extract the opinion href\n",
    "                href = opinion['href']\n",
    "                futures_opinions.append(session.get(href))\n",
    "                futures_opinions_lookup[href] = case_id\n",
    "            except:\n",
    "                pass\n",
    "    except:\n",
    "        pass\n"
   ]
  },
  {
   "cell_type": "code",
   "execution_count": 6,
   "metadata": {},
   "outputs": [],
   "source": [
    "for f in cf.as_completed(futures_decisions):\n",
    "    resp = f.result()\n",
    "    href = resp.url\n",
    "    case_id = futures_decisions_lookup[href]\n",
    "    data[case_id]['decisions'].append(resp.json())"
   ]
  },
  {
   "cell_type": "code",
   "execution_count": 7,
   "metadata": {},
   "outputs": [],
   "source": [
    "for f in cf.as_completed(futures_opinions):\n",
    "    resp = f.result()\n",
    "    href = resp.url\n",
    "    case_id = futures_opinions_lookup[href]\n",
    "    data[case_id]['opinions'].append(resp.json())"
   ]
  },
  {
   "cell_type": "code",
   "execution_count": 8,
   "metadata": {},
   "outputs": [
    {
     "name": "stdout",
     "output_type": "stream",
     "text": [
      "Successfully downloaded 8335 cases\n"
     ]
    }
   ],
   "source": [
    "print(f'Successfully downloaded {len(data)} cases')"
   ]
  },
  {
   "cell_type": "markdown",
   "metadata": {},
   "source": [
    "# Export the data to JSON files"
   ]
  },
  {
   "cell_type": "code",
   "execution_count": 11,
   "metadata": {},
   "outputs": [],
   "source": [
    "values = list(data.values())\n",
    "\n",
    "with open('cases.json', 'w') as f:\n",
    "    json.dump(values, f)"
   ]
  }
 ],
 "metadata": {
  "kernelspec": {
   "display_name": "base",
   "language": "python",
   "name": "python3"
  },
  "language_info": {
   "codemirror_mode": {
    "name": "ipython",
    "version": 3
   },
   "file_extension": ".py",
   "mimetype": "text/x-python",
   "name": "python",
   "nbconvert_exporter": "python",
   "pygments_lexer": "ipython3",
   "version": "3.11.5"
  }
 },
 "nbformat": 4,
 "nbformat_minor": 2
}
