{
 "cells": [
  {
   "cell_type": "code",
   "execution_count": 16,
   "metadata": {},
   "outputs": [],
   "source": [
    "import Levenshtein\n",
    "import re"
   ]
  },
  {
   "cell_type": "code",
   "execution_count": 21,
   "metadata": {},
   "outputs": [
    {
     "name": "stdout",
     "output_type": "stream",
     "text": [
      "1\n"
     ]
    }
   ],
   "source": [
    "def is_abbreviation(abbreviation, full_string):\n",
    "    cleaned_abbreviation = re.sub(r'\\W+', '', abbreviation).upper()\n",
    "    cleaned_full_string = re.sub(r'\\W+', '', full_string).upper()\n",
    "    it = iter(cleaned_full_string)\n",
    "    return all(char in it for char in cleaned_abbreviation)\n",
    "\n",
    "def closest_string(first_string, second_string, target_string):\n",
    "    # Substring Check\n",
    "    if target_string in first_string:\n",
    "        return 0\n",
    "    elif target_string in second_string:\n",
    "        return 1\n",
    "    #Abbreviation check\n",
    "    if is_abbreviation(target_string, first_string):\n",
    "        return 0\n",
    "    elif is_abbreviation(target_string, second_string):\n",
    "        return 1\n",
    "    \n",
    "    #Levenshtein fallback  \n",
    "    distance_to_first = Levenshtein.distance(first_string, target_string)\n",
    "    distance_to_second = Levenshtein.distance(second_string, target_string)\n",
    "\n",
    "    if distance_to_first <= distance_to_second:\n",
    "        return 0\n",
    "    else:\n",
    "        return 1\n",
    "\n",
    "print(closest_string('Robert J. Wittman, et al.','Gloria Personhuballah, et al.','Personhuballah'))"
   ]
  },
  {
   "cell_type": "code",
   "execution_count": null,
   "metadata": {},
   "outputs": [],
   "source": []
  }
 ],
 "metadata": {
  "kernelspec": {
   "display_name": "base",
   "language": "python",
   "name": "python3"
  },
  "language_info": {
   "codemirror_mode": {
    "name": "ipython",
    "version": 3
   },
   "file_extension": ".py",
   "mimetype": "text/x-python",
   "name": "python",
   "nbconvert_exporter": "python",
   "pygments_lexer": "ipython3",
   "version": "3.11.5"
  }
 },
 "nbformat": 4,
 "nbformat_minor": 2
}
